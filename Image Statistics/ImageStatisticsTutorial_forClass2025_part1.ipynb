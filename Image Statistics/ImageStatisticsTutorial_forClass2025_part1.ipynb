{
  "nbformat": 4,
  "nbformat_minor": 0,
  "metadata": {
    "colab": {
      "provenance": [],
      "machine_shape": "hm",
      "gpuType": "A100"
    },
    "kernelspec": {
      "name": "python3",
      "display_name": "Python 3"
    },
    "language_info": {
      "name": "python"
    },
    "accelerator": "GPU"
  },
  "cells": [
    {"metadata": {
        "id": "view-in-github",
        "colab_type": "text"
      },
      "cell_type": "markdown",
      "source": [
        "[![Open In Colab](https://colab.research.google.com/assets/colab-badge.svg)](https://colab.research.google.com/github/schwartz-cnl/Computational-Neuroscience-Class/blob/main/Image%20Statistics/ImageStatisticsTutorial_forClass2025_part1.ipynb)"
      ],
      "metadata": {
        "id": "sE69W1yAdtln"
      }
    },
    {
      "cell_type": "code",
      "source": [
        "# Image statistics tutorial; part 1\n",
        "# PCA and ICA on images\n",
        "# OS 2025. Original in Matlab by OS used in Berkeley summer course.\n",
        "\n",
        "import numpy as np\n",
        "import tensorflow as tf\n",
        "from tensorflow import keras\n",
        "import matplotlib.pyplot as plt\n",
        "from scipy.stats import binned_statistic_2d\n",
        "from scipy.stats import rayleigh\n",
        "import sys\n",
        "import os"
      ],
      "metadata": {
        "id": "EQCOKIJxdABV"
      },
      "execution_count": null,
      "outputs": []
    },
    {
      "cell_type": "code",
      "source": [
        "# load an image\n",
        "from tensorflow.keras.preprocessing import image\n",
        "!wget https://github.com/schwartz-cnl/Computational-Neuroscience-Class/blob/main/Convolutional%20Neural%20Network/ILSVRC2012_test_00026783.JPEG?raw=true -O ILSVRC2012_test_00026783.JPEG\n",
        "import numpy as np\n",
        "img_path = 'ILSVRC2012_test_00026783.JPEG'\n",
        "img = image.load_img(img_path, target_size=(224, 224))\n",
        "import matplotlib.pyplot as plt\n",
        "plt.imshow(img)\n"
      ],
      "metadata": {
        "id": "Z20iQSO-WO8q"
      },
      "execution_count": null,
      "outputs": []
    },
    {
      "cell_type": "code",
      "source": [
        "# collect image patches so that we can run PCA and ICA on them\n",
        "# PCA and ICA on image patches\n",
        "import numpy as np\n",
        "import matplotlib.pyplot as plt\n",
        "\n",
        "def get_patches(im, patch_dim, num_patches):\n",
        "    # Pick random starting x and y positions in the image num_patches times, and take patch\n",
        "    # as a column vector.\n",
        "\n",
        "    patches = np.zeros((patch_dim**2, num_patches))\n",
        "    for i in range(num_patches):\n",
        "        thex, they = -1, -1\n",
        "        while thex < 0 or thex > (im.shape[1] - patch_dim):\n",
        "            thex = int(np.round(np.random.rand() * im.shape[1]))\n",
        "        while they < 0 or they > (im.shape[0] - patch_dim):\n",
        "            they = int(np.round(np.random.rand() * im.shape[0]))\n",
        "        the_patch = im[they:they + patch_dim, thex:thex + patch_dim]\n",
        "        patches[:, i] = the_patch.flatten()\n",
        "    return patches\n",
        "\n",
        "# Main part of the code\n",
        "patch_dim = 12\n",
        "num_patches = 10000\n",
        "img = image.load_img(img_path, target_size=(224, 224));\n",
        "im = image.img_to_array(img);\n",
        "print(im.shape)\n",
        "im = im[:,:,0];   # take just one color dimension (i.e., grayscale)\n",
        "print(im.shape)\n",
        "sig = get_patches(im, patch_dim, num_patches)\n",
        "print(sig.shape)\n"
      ],
      "metadata": {
        "id": "fPDoJ5YD56ub"
      },
      "execution_count": null,
      "outputs": []
    },
    {
      "cell_type": "code",
      "source": [
        "# Show some random patches\n",
        "\n",
        "for i in range(25):\n",
        "  plt.subplot(5,5,i+1)\n",
        "  plt.imshow(sig[:, i].reshape(patch_dim, patch_dim), cmap='gray')"
      ],
      "metadata": {
        "id": "1ZmBISQDW8yQ"
      },
      "execution_count": null,
      "outputs": []
    },
    {
      "cell_type": "code",
      "source": [
        "# PCA\n",
        "numsigs = sig.shape[1]\n",
        "cov_matrix = np.dot(sig, sig.T) / numsigs\n",
        "D, V = np.linalg.eigh(cov_matrix)\n",
        "D = D[::-1]  # Reverse the eigenvalues\n",
        "V = V[:, ::-1]  # Reverse the eigenvectors\n",
        "mat = V\n",
        "newsig = np.dot(mat.T, sig)\n",
        "print(D.shape)\n",
        "non_zero_ind = np.where(np.abs(D) > np.finfo(float).eps)[0]\n",
        "print(non_zero_ind.shape)\n",
        "\n",
        "# Whiten\n",
        "whitener = np.diag(1.0 / np.sqrt(D[non_zero_ind]))\n",
        "mat = np.dot(whitener, V[:, non_zero_ind].T)\n",
        "newsig = np.dot(mat, sig)\n",
        "\n",
        "# Plot the eigenvalues\n",
        "plt.plot(D,'o')\n",
        "plt.title(\"Eigenvalues\")\n",
        "plt.show()\n",
        "\n"
      ],
      "metadata": {
        "id": "h0padlFK6LaW"
      },
      "execution_count": null,
      "outputs": []
    },
    {
      "cell_type": "code",
      "source": [
        "# Since first eigenvalue one is extremely high (why?), look at the spread of the remaining\n",
        "plt.plot(D[1:],'o')\n",
        "plt.title(\"Eigenvalues\")\n",
        "plt.show()\n"
      ],
      "metadata": {
        "id": "1_7RYgKR6Nsr"
      },
      "execution_count": null,
      "outputs": []
    },
    {
      "cell_type": "code",
      "source": [
        "# Display one of the principle component\n",
        "# Choose different principle components by changing pc_index\n",
        "# to see how the PCA feature changes\n",
        "# (how does the PCA feature change for larger indices?)\n",
        "pc_index = 5\n",
        "#pc_index = 45\n",
        "plt.imshow(mat[pc_index, :].reshape(patch_dim, patch_dim))\n",
        "\n",
        "# Display one of the principle components\n",
        "plt.imshow(mat[pc_index, :].reshape(patch_dim, patch_dim), cmap='gray')\n",
        "plt.title(f\"PCA feature {pc_index}\")\n",
        "plt.axis('off')\n",
        "plt.show()"
      ],
      "metadata": {
        "id": "HfRFCuuK6f-8"
      },
      "execution_count": null,
      "outputs": []
    },
    {
      "cell_type": "code",
      "source": [
        "# We are also interested in the transform:\n",
        "# sig = mat_inverse * newsig\n",
        "# This is a transform from the output of pca back to the\n",
        "# original image patches. The matrix mat_inverse is the\n",
        "# inverse of mat. The columns of the matrix mat_inverse\n",
        "# are known as basis functions. The input is a linear\n",
        "# combination of the columns of mat_inverse.\n",
        "# To view the basis functions, we need to view columns of mat_inverse\n",
        "# Compute the inverse of the PCA transformation matrix\n",
        "mat_inverse = np.linalg.inv(mat)\n",
        "\n",
        "# Select one of the basis functions (column of mat_inverse)\n",
        "pca_basis_index = 5\n",
        "pca_basis_function = mat_inverse[:, pca_basis_index].reshape(patch_dim, patch_dim)\n",
        "\n",
        "# Display the selected PCA basis function\n",
        "plt.imshow(pca_basis_function, cmap='gray')\n",
        "plt.title(f\"PCA Basis Function {pca_basis_index}\")\n",
        "plt.axis('off')\n",
        "plt.show()"
      ],
      "metadata": {
        "id": "MjSx_1xgFWLA"
      },
      "execution_count": null,
      "outputs": []
    },
    {
      "cell_type": "code",
      "source": [
        "# ICA\n",
        "# We want to see that ICA on images results in \"edge\" filters\n",
        "from sklearn.decomposition import FastICA\n",
        "\n",
        "ica = FastICA(n_components=patch_dim**2, random_state=0)\n",
        "ica_sources = ica.fit_transform(sig.T)  # Shape is (num_patches, components)\n",
        "print(ica_sources.shape)\n",
        "ica_basis = ica.mixing_.T  # Shape is (components, patch_dim^2)\n",
        "print(ica_basis.shape)\n"
      ],
      "metadata": {
        "id": "j7TlzsVtFefo"
      },
      "execution_count": null,
      "outputs": []
    },
    {
      "cell_type": "code",
      "source": [
        "# Select a random basis function to display\n",
        "# Do these features have an order like we saw for the PCA?\n",
        "random_index = np.random.randint(0, patch_dim**2)\n",
        "random_basis_function = ica_basis[random_index, :].reshape(patch_dim, patch_dim)\n",
        "\n",
        "# Display the selected ICA basis function\n",
        "plt.imshow(random_basis_function, cmap='gray')\n",
        "plt.title(f\"ICA Basis Function {random_index}\")\n",
        "plt.axis('off')\n",
        "plt.show()"
      ],
      "metadata": {
        "id": "Nim0GZwpFpPB"
      },
      "execution_count": null,
      "outputs": []
    },
    {
      "cell_type": "code",
      "source": [],
      "metadata": {
        "id": "3qWRATMSWvXf"
      },
      "execution_count": null,
      "outputs": []
    }
  ]
}

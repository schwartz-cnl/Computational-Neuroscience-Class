{
  "nbformat": 4,
  "nbformat_minor": 0,
  "metadata": {
    "colab": {
      "provenance": []
    },
    "kernelspec": {
      "name": "python3",
      "display_name": "Python 3"
    },
    "language_info": {
      "name": "python"
    }
  },
  "cells": [
   {
      "cell_type": "markdown",
      "metadata": {
        "id": "view-in-github",
        "colab_type": "text"
      },
      "source": [
      "[![Open In Colab](https://colab.research.google.com/assets/colab-badge.svg)](https://colab.research.google.com/github.com/schwartz-cnl/Computational-Neuroscience-Class/blob/main/Holographic%20Reduced%20Representations/HolographicReducedRepresentations_lab.ipynb)"
      ]
    },
    {
      "cell_type": "code",
      "source": [
        "# Holographic Reduced Representations\n",
        "#  References:\n",
        "#  Plate, T. A. (1994).\n",
        "#  Distributed Representations and Nested Compositional Structure.\n",
        "#  Ph. D. thesis, Department of Computer Science, University of Toronto,\n",
        "#  http://internet.cybermesa.com/~champagne/tplate/\n",
        "#\n",
        "#  Plate, T. A. (2003).\n",
        "#  Holographic Reduced Representation: Distributed Representation for\n",
        "#  Cognitive Structures.\n",
        "#  Center for the Study of Language and Information (CSLI).\n",
        "#  ISBN-10: 1575864290, April 2003\n",
        "\n",
        "# ccorr_fft and cconv_fft originally by by Blerim Emruli, March 2012, in Matlab\n",
        "# Main code originally by Odelia Schwartz in 2016 in Matlab\n",
        "# Translated from Matlab to Python by ChatGPT-03-mini-high and verified by OS"
      ],
      "metadata": {
        "id": "aJ3w5ezg0WFS"
      },
      "execution_count": null,
      "outputs": []
    },
    {
      "cell_type": "code",
      "source": [
        "import numpy as np\n",
        "import matplotlib.pyplot as plt\n",
        "\n",
        "def cconv_fft(x, y):\n",
        "    \"\"\"\n",
        "    Perform circular convolution using FFT.\n",
        "\n",
        "    Parameters:\n",
        "        x, y (ndarray): Input vectors of equal length.\n",
        "\n",
        "    Returns:\n",
        "        z (ndarray): Normalized circular convolution of x and y.\n",
        "    \"\"\"\n",
        "    if x.shape != y.shape:\n",
        "        raise ValueError(\"vectors are not equally sized\")\n",
        "    z = np.fft.ifft(np.fft.fft(x) * np.fft.fft(y))\n",
        "    z = z / np.linalg.norm(z)\n",
        "    return z\n",
        "\n",
        "def ccorr_fft(z, y):\n",
        "    \"\"\"\n",
        "    Perform circular correlation using FFT.\n",
        "\n",
        "    Parameters:\n",
        "        z, y (ndarray): Input vectors of equal length.\n",
        "\n",
        "    Returns:\n",
        "        xTilde (ndarray): Normalized circular correlation of z and y.\n",
        "    \"\"\"\n",
        "    if z.shape != y.shape:\n",
        "        raise ValueError(\"vectors are not equally sized\")\n",
        "    xTilde = np.fft.ifft(np.fft.fft(z) * np.conj(np.fft.fft(y)))\n",
        "    xTilde = xTilde / np.linalg.norm(xTilde)\n",
        "    return xTilde\n"
      ],
      "metadata": {
        "id": "hNyaTjx6rNfn"
      },
      "execution_count": null,
      "outputs": []
    },
    {
      "cell_type": "code",
      "source": [
        "# Main code\n",
        "dVectors = 1000\n",
        "np.random.seed(0)  # Optional: for reproducible results\n",
        "\n",
        "# Generate random vectors with mean 0 and standard deviation sqrt(1/dVectors)\n",
        "shape = np.random.normal(0, np.sqrt(1/dVectors), dVectors)\n",
        "square = np.random.normal(0, np.sqrt(1/dVectors), dVectors)\n",
        "circle = np.random.normal(0, np.sqrt(1/dVectors), dVectors)\n"
      ],
      "metadata": {
        "id": "fuedKmTZrXBd"
      },
      "execution_count": null,
      "outputs": []
    },
    {
      "cell_type": "code",
      "source": [
        "# Bind shape to circle in a vector called convshape\n",
        "# Circular convolution is used for binding.\n",
        "# We can think of this as holding a circle shape in memory (encoding)\n",
        "# (the circle is an example shape and unrelated to circular convolution)\n",
        "convshape = cconv_fft(shape, circle)\n",
        "\n",
        "# Note that the circular convolution retains the same size\n",
        "print(\"Shapes:\", circle.shape, shape.shape, convshape.shape)\n"
      ],
      "metadata": {
        "id": "hsKxKi6Wsmn0"
      },
      "execution_count": null,
      "outputs": []
    },
    {
      "cell_type": "code",
      "source": [
        "# From bound vector convshape find what was bound to shape to obtain it\n",
        "# This is the inverse operation that gives back a noisy circle.\n",
        "# We will call this vector findshape. This is like decoding or\n",
        "# retrieving from memory.\n",
        "\n",
        "# Decode: retrieve what was bound to 'shape' (this gives a noisy circle)\n",
        "findshape = ccorr_fft(convshape, shape)\n",
        "\n",
        "# Let's compare the original circle to the decoded findshape\n",
        "# Plot the first nn elements of the original circle and the decoded vector\n",
        "nn = 50\n",
        "plt.figure(1)\n",
        "plt.plot(circle[:nn], label='circle')\n",
        "plt.plot(findshape[:nn].real, 'r', label='decoded shape')\n",
        "plt.legend()\n",
        "plt.title(\"Circle vs. Decoded Shape\")"
      ],
      "metadata": {
        "id": "SKSk2Ffmsotc"
      },
      "execution_count": null,
      "outputs": []
    },
    {
      "cell_type": "code",
      "source": [
        "# Let's compare the square to the decoded findshape -- why does it look worse?\n",
        "plt.figure(2)\n",
        "plt.plot(square[:nn], label='square')\n",
        "plt.plot(findshape[:nn].real, 'r', label='decoded shape')\n",
        "plt.legend()\n",
        "plt.title(\"Square vs. Decoded Shape\")\n"
      ],
      "metadata": {
        "id": "b8dSi2hZrhiu"
      },
      "execution_count": null,
      "outputs": []
    },
    {
      "cell_type": "code",
      "source": [
        "# Is the decoded findshape more similar to the square or to the circle?\n",
        "# We can take the inner product: Which is higher?\n",
        "\n",
        "# Inner products to check similarity\n",
        "inner_product_square = np.dot(square, findshape.real)\n",
        "inner_product_circle = np.dot(circle, findshape.real)\n",
        "print(\"Inner product (square * decoded shape):\", inner_product_square)\n",
        "print(\"Inner product (circle * decoded shape):\", inner_product_circle)\n",
        "\n",
        "# An alternative way to decode is using the flipped shape vector\n",
        "shapeinv = np.concatenate([shape[:1], np.flip(shape[1:])])\n",
        "findshape2 = cconv_fft(convshape, shapeinv)\n",
        "inner_product_square2 = np.dot(square, findshape2.real)\n",
        "inner_product_circle2 = np.dot(circle, findshape2.real)\n",
        "print(\"Inner product (square * findshape2):\", inner_product_square2)\n",
        "print(\"Inner product (circle * findshape2):\", inner_product_circle2)\n"
      ],
      "metadata": {
        "id": "itugmOcirmR8"
      },
      "execution_count": null,
      "outputs": []
    },
    {
      "cell_type": "code",
      "source": [
        "# We can also bind a number together with the shape in \"memory\"\n",
        "# For instance we want to hold \"in memory\" number one\n",
        "# Bind a number and a vector 'one'\n",
        "number = np.random.normal(0, np.sqrt(1/dVectors), dVectors)\n",
        "one = np.random.normal(0, np.sqrt(1/dVectors), dVectors)\n",
        "convnumber = cconv_fft(number, one)\n",
        "\n",
        "# We want this together with the circle shape we computed earlier\n",
        "# (as if holding one circle in memory)\n",
        "convsum = convshape + convnumber\n",
        "\n",
        "# From this sum, we again want to find what the shape was - square or circle\n",
        "# Decode the shape from the sum\n",
        "findshape_fromsum = ccorr_fft(convsum, shape)\n",
        "plt.figure(3)\n",
        "plt.plot(circle[:nn], label='circle')\n",
        "plt.plot(findshape_fromsum[:nn].real, 'r', label='decoded shape from sum')\n",
        "plt.legend()\n",
        "plt.title(\"Circle vs. Decoded Shape from Sum\")\n",
        "\n"
      ],
      "metadata": {
        "id": "nwi61dLerzAR"
      },
      "execution_count": null,
      "outputs": []
    },
    {
      "cell_type": "code",
      "source": [
        "inner_product_square_sum = np.dot(square, findshape_fromsum.real)\n",
        "inner_product_circle_sum = np.dot(circle, findshape_fromsum.real)\n",
        "print(\"Inner product (square * decoded shape from sum):\", inner_product_square_sum)\n",
        "print(\"Inner product (circle * decoded shape from sum):\", inner_product_circle_sum)\n"
      ],
      "metadata": {
        "id": "y0Lw2mXvr7iG"
      },
      "execution_count": null,
      "outputs": []
    },
    {
      "cell_type": "code",
      "source": [
        "# The two decoded shapes are similar, whether we just convolved circle with\n",
        "# shape, or if we summed to together the circle and the one convolutions\n",
        "plt.figure(4)\n",
        "plt.plot(findshape[:nn].real, 'r', label='findshape')\n",
        "plt.plot(findshape_fromsum[:nn].real, 'm', label='findshape from sum')\n",
        "plt.legend()\n",
        "plt.title(\"Comparison of Decoded Shapes\")\n"
      ],
      "metadata": {
        "id": "WPZsn0Fbr-Dy"
      },
      "execution_count": null,
      "outputs": []
    },
    {
      "cell_type": "code",
      "source": [
        "# We could also retrieve the number and compare it to 'one'\n",
        "findnumber_fromsum = ccorr_fft(convsum, number)\n",
        "findnumber_fromsum = ccorr_fft(convsum, number)\n",
        "inner_product_one = np.dot(one, findnumber_fromsum.real)\n",
        "print(\"Inner product (one * findnumber_fromsum):\", inner_product_one)\n",
        "\n",
        "plt.show()"
      ],
      "metadata": {
        "id": "eNd3fUzMsBOH"
      },
      "execution_count": null,
      "outputs": []
    }
  ]
}

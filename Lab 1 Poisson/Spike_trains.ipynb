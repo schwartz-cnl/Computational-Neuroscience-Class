{
  "nbformat": 4,
  "nbformat_minor": 0,
  "metadata": {
    "colab": {
      "name": "Spike_trains.ipynb",
      "provenance": [],
      "collapsed_sections": [],
      "authorship_tag": "ABX9TyNoKTQfIkeuRSAimVK6Kwnm",
      "include_colab_link": true
    },
    "kernelspec": {
      "name": "python3",
      "display_name": "Python 3"
    },
    "language_info": {
      "name": "python"
    }
  },
  "cells": [
    {
      "cell_type": "markdown",
      "metadata": {
        "id": "view-in-github",
        "colab_type": "text"
      },
      "source": [
        "<a href=\"https://colab.research.google.com/github/xup5/Computational-Neuroscience-Class/blob/main/Lab%201%20Poisson/Spike_trains.ipynb\" target=\"_parent\"><img src=\"https://colab.research.google.com/assets/colab-badge.svg\" alt=\"Open In Colab\"/></a>"
      ]
    },
    {
      "cell_type": "markdown",
      "source": [
        "This is a tutorial for generating Poisson spike trains.\n",
        "Original tutorial: David Heeger (for Cold Spring Harbor Lab summer school).\n",
        "Modified by: Odelia Schwartz and Xu Pan."
      ],
      "metadata": {
        "id": "uDpkFctUGBdN"
      }
    },
    {
      "cell_type": "markdown",
      "source": [
        "# Generating Samples of a Poisson Process.\n",
        "\n",
        "Spike trains in neurons are often modeled as a Poisson random \n",
        "process.\n",
        "\n",
        "One of the easiest ways to generate a Poisson spike\n",
        "train is to rely on the approximation that in any small\n",
        "time interval the probability of a spike is proportional\n",
        "to the mean spike count (firing rate) times the time step:\n",
        "\n",
        "   Prob{spike during (t,t+deltaT)} = r(t) * deltaT\n",
        "\n",
        "where r(t) is the firing rate and deltaT is \n",
        "the time step.  This approximation is only valid when deltaT is\n",
        "very short so that there is essentially no chance of there\n",
        "being more than one spike per time interval."
      ],
      "metadata": {
        "id": "PtPyy24RGdta"
      }
    },
    {
      "cell_type": "markdown",
      "source": [
        "## Part 1\n"
      ],
      "metadata": {
        "id": "YA8eVV2qHHf9"
      }
    },
    {
      "cell_type": "code",
      "execution_count": null,
      "metadata": {
        "id": "mat8HYWTFt0O"
      },
      "outputs": [],
      "source": [
        "# Let's begin by choosing a time step and by choosing an average\n",
        "# firing rate.\n",
        "# After running this, try and also choose different firing rates.\n",
        "\n",
        "deltaT = 1e-3 \t\t\t# Time step: 1e-3 secs = 1 msec\n",
        "rate = 10\t\t\t    \t# Firing rate: spikes/sec\n",
        "duration = 1\t\t\t  # 1 sec simulation"
      ]
    },
    {
      "cell_type": "code",
      "source": [
        "# Choose the time intervals\n",
        "\n",
        "import numpy as np\n",
        "\n",
        "times = np.arange(0, duration, deltaT)\n",
        "times.shape"
      ],
      "metadata": {
        "id": "Hxh5B4r3J8Ml"
      },
      "execution_count": null,
      "outputs": []
    },
    {
      "cell_type": "code",
      "source": [
        "# We can generate one random number between 0 and 1 (uniform distribution)\n",
        "# Try this many times\n",
        "\n",
        "xr_one = np.random.rand()\n",
        "print(xr_one)"
      ],
      "metadata": {
        "id": "21bcsS1XKbn3"
      },
      "execution_count": null,
      "outputs": []
    },
    {
      "cell_type": "code",
      "source": [
        "# Let's check if the mean firing rate times the time interval \n",
        "# is greater than the random number\n",
        "# Again, we can repeat choosing a random number and checking\n",
        "# many times\n",
        "\n",
        "intervalRate = rate * deltaT\n",
        "print(intervalRate)\n",
        "print(xr_one)\n",
        "intervalRate > xr_one "
      ],
      "metadata": {
        "id": "Ay0doHZWMc5k"
      },
      "execution_count": null,
      "outputs": []
    },
    {
      "cell_type": "code",
      "source": [
        "# We want to do this process not just for one interval,\n",
        "# but for all the time intervals over the duration\n",
        "# We'll choose a bunch of random numbers, one for each time step,\n",
        "# uniformly distributed between 0 and 1.\n",
        "\n",
        "xr = np.random.rand(*times.shape)"
      ],
      "metadata": {
        "id": "RFxH6HxKMynO"
      },
      "execution_count": null,
      "outputs": []
    },
    {
      "cell_type": "code",
      "source": [
        "# Check that values are reasonably random by plotting a histogram\n",
        "\n",
        "import matplotlib.pyplot as plt\n",
        "\n",
        "plt.hist(xr, bins=20);\n",
        "plt.xlabel('random draws', fontsize=16)\n",
        "plt.ylabel('Probability', fontsize=16)"
      ],
      "metadata": {
        "id": "Qg8TW609Nva2"
      },
      "execution_count": null,
      "outputs": []
    },
    {
      "cell_type": "code",
      "source": [
        "# Now, insert a spike whenever the probability of firing\n",
        "# (rate*deltaT) is greater than the corresponding random number:\n",
        "# Python (numpy) allows you to do this operation in one line, without a \n",
        "# for loop. \n",
        "\n",
        "neuralResponse = intervalRate > xr\n",
        "\n",
        "# We'll plot the neural responses (spikes) using the plt.stem()\n",
        "# which is a lollipop plot...\n",
        "plt.stem(times, neuralResponse, basefmt=\" \");    \n",
        "plt.xlabel('Time', fontsize=16)\n",
        "plt.ylabel('Neural Response (Spikes)', fontsize=16)"
      ],
      "metadata": {
        "id": "cu_L-SeXPtuo"
      },
      "execution_count": null,
      "outputs": []
    },
    {
      "cell_type": "code",
      "source": [
        "# To get a better understanding of what this does, we\n",
        "# can look at the values for a vector of length 5\n",
        "# Try changing the vector to get more spikes\n",
        "\n",
        "tmpxr = np.array([.001, .1, .2, .5, .06])\n",
        "print(intervalRate)\n",
        "tmpResponse = intervalRate > tmpxr\n",
        "print(tmpResponse)"
      ],
      "metadata": {
        "id": "x9PJLEoUP4CE"
      },
      "execution_count": null,
      "outputs": []
    },
    {
      "cell_type": "code",
      "source": [
        "# Calculate the spike count, which are the number of spikes during the time duration\n",
        "\n",
        "spikeCount = np.sum(neuralResponse)\n",
        "print(spikeCount)"
      ],
      "metadata": {
        "id": "OHSZFzPdXG38"
      },
      "execution_count": null,
      "outputs": []
    },
    {
      "cell_type": "markdown",
      "source": [
        "## Part 2"
      ],
      "metadata": {
        "id": "6Mf4eJdonNR6"
      }
    },
    {
      "cell_type": "code",
      "source": [
        "#@title Default title text\n",
        "# TODO: Repeat 5000 times: generating random numbers xr, computing neuralResponse and calculating\n",
        "# spikeCount. Save the resulting number of spikes into spikeCounts each of the 5000 times.\n",
        "\n",
        "len = 5000\n",
        "spikeCounts = np.zeros(len)\n",
        "print(spikeCounts.shape)\n",
        "\n",
        "for repeat in range(5000):\n",
        "  # Your code here:\n",
        "  xr = np.random.rand(*times.shape)\n",
        "  neuralResponse = intervalRate > xr\n",
        "  spikeCounts[repeat] = np.sum(neuralResponse)"
      ],
      "metadata": {
        "cellView": "code",
        "id": "lgsdtr0znMws"
      },
      "execution_count": null,
      "outputs": []
    },
    {
      "cell_type": "code",
      "source": [
        "# What is the mean of the spikeCounts? How does it\n",
        "# compare to the firing rate?\n",
        "\n",
        "print(np.mean(spikeCounts))\n",
        "print(rate)"
      ],
      "metadata": {
        "id": "JA18XtBpnv-i"
      },
      "execution_count": null,
      "outputs": []
    },
    {
      "cell_type": "code",
      "source": [
        "# Plot a spike count histogram\n",
        "\n",
        "x=np.arange(0, 30);\n",
        "plt.hist(spikeCounts, bins=x, align='left')\n",
        "plt.xlabel('Spike count')\n",
        "plt.ylabel('Probability')"
      ],
      "metadata": {
        "id": "jxd5u8v3n6Fl"
      },
      "execution_count": null,
      "outputs": []
    },
    {
      "cell_type": "code",
      "source": [
        "#@title Default title text\n",
        "# Plot a normalized histogram (that sums to 1)\n",
        "# for comparison with the Poisson\n",
        "\n",
        "from scipy.stats import poisson\n",
        "\n",
        "plt.hist(spikeCounts, bins=x, density=True, align='left')\n",
        "plt.xlabel('Spike count')\n",
        "plt.ylabel('Probability')\n",
        "y = poisson.pmf(x, mu=np.mean(spikeCounts))\n",
        "plt.plot(x,y)"
      ],
      "metadata": {
        "cellView": "code",
        "id": "nPK4yRrLpmww"
      },
      "execution_count": null,
      "outputs": []
    },
    {
      "cell_type": "code",
      "source": [
        "#   Here are some things for you to do in class for the code above:\n",
        "\n",
        "# - Try repeating the above code by choosing a lower firing rate \n",
        "#   (3) or a higher rate (15) by changing the variable rate at the top.\n",
        "#   Plot the resulting distributions. How does the mean change?\n",
        "#   Also plot examples of the spike trains in the repeated runs.\n",
        "\n",
        "# - Try changing the number of repeats from 1000, to 50, 10, and 10000. \n",
        "#   Plot the resulting distributions. How good is the fit to Poisson?"
      ],
      "metadata": {
        "id": "3JFGG16_rkQC"
      },
      "execution_count": null,
      "outputs": []
    }
  ]
}
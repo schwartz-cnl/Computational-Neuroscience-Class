{
  "nbformat": 4,
  "nbformat_minor": 0,
  "metadata": {
    "colab": {
      "provenance": []
    },
    "kernelspec": {
      "name": "python3",
      "display_name": "Python 3"
    },
    "language_info": {
      "name": "python"
    }
  },
  "cells": [
    {
      "cell_type": "markdown",
      "source": [
        "[![Open In Colab](https://colab.research.google.com/assets/colab-badge.svg)](https://colab.research.google.com/github/schwartz-cnl/Computational-Neuroscience-Class/blob/main/Convolutional%20Neural%20Network/VisualizeGaborlikeAlexnet.ipynb)"
      ],
      "metadata": {
        "id": "view-in-github",
        "colab_type": "text"
      }
    },
    {
      "cell_type": "code",
      "execution_count": null,
      "metadata": {
        "id": "LttS4S2ZYodt"
      },
      "outputs": [],
      "source": [
        "# Initial code by ChatGPT, edited and commented by OS\n",
        "# We want to visualize the first convolutional layer of Alexnet filters\n",
        "# We will use a pretrained model from Pytorch\n",
        "\n",
        "import numpy as np\n",
        "import tensorflow as tf\n",
        "import matplotlib.pyplot as plt\n",
        "from scipy.stats import binned_statistic_2d\n",
        "from scipy.stats import rayleigh\n",
        "import sys\n",
        "import os\n",
        "\n",
        "from torchvision import models\n",
        "\n",
        "model = models.alexnet(weights='DEFAULT')\n",
        "print(model)\n"
      ]
    },
    {
      "cell_type": "code",
      "source": [
        "# We can visualize first layer filters directly. See how they are qualitatively\n",
        "# similar to what we saw with ICA and to V1 oriented Gabor-like filters\n",
        "\n",
        "firstlayer = model.features[0]\n",
        "print(firstlayer)\n",
        "\n",
        "# Extract the weights from the first convolutional layer\n",
        "filters = firstlayer.weight.data.numpy()  # Convert to NumPy for visualization\n"
      ],
      "metadata": {
        "id": "-zT6QgngZNrf"
      },
      "execution_count": null,
      "outputs": []
    },
    {
      "cell_type": "code",
      "source": [
        "# Visualization of first layer filters\n",
        "\n",
        "# Normalize filters\n",
        "def normalize_filters(filters):\n",
        "    return (filters - filters.min()) / (filters.max() - filters.min())\n",
        "\n",
        "normfilters = normalize_filters(filters)\n",
        "print(normfilters.shape)\n",
        "\n",
        "fig, axes = plt.subplots(8, 8, figsize=(10, 10))\n",
        "for i, ax in enumerate(axes.flat):\n",
        "    if i < normfilters.shape[0]:\n",
        "        filter_img = np.transpose(normfilters[i], (1, 2, 0))  # Transpose to (Height, Width, Color) since was (Color, Height, Width)\n",
        "        ax.imshow(filter_img)\n",
        "    ax.axis('off')\n",
        "plt.tight_layout()\n",
        "plt.show()\n",
        "\n",
        "\n",
        "\n"
      ],
      "metadata": {
        "id": "0o0QWIWFdkC3"
      },
      "execution_count": null,
      "outputs": []
    },
    {
      "cell_type": "code",
      "source": [],
      "metadata": {
        "id": "b3wWC7kIZRUG"
      },
      "execution_count": null,
      "outputs": []
    }
  ]
}
